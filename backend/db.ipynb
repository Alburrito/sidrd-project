{
 "cells": [
  {
   "cell_type": "markdown",
   "metadata": {},
   "source": [
    "# Conexión y obtención general de reportes"
   ]
  },
  {
   "cell_type": "code",
   "execution_count": 1,
   "metadata": {},
   "outputs": [],
   "source": [
    "from pymongo import MongoClient\n",
    "from models import Report\n",
    "client = MongoClient(\"localhost\", 27017)\n",
    "db = client['bug_reports_db']\n",
    "col = db['bug_reports']"
   ]
  },
  {
   "cell_type": "code",
   "execution_count": 2,
   "metadata": {},
   "outputs": [
    {
     "data": {
      "text/plain": [
       "(4732,\n",
       " [<models.Report at 0x7f7b3865ae20>,\n",
       "  <models.Report at 0x7f7b38261b50>,\n",
       "  <models.Report at 0x7f7b38261e50>,\n",
       "  <models.Report at 0x7f7b38261e20>,\n",
       "  <models.Report at 0x7f7b38261e80>])"
      ]
     },
     "execution_count": 2,
     "metadata": {},
     "output_type": "execute_result"
    }
   ],
   "source": [
    "col_reports = col.find()\n",
    "reports = [Report(**report) for report in col_reports]\n",
    "len(reports), reports[:5]"
   ]
  },
  {
   "cell_type": "code",
   "execution_count": 3,
   "metadata": {},
   "outputs": [
    {
     "data": {
      "text/plain": [
       "(3724,\n",
       " [<models.Report at 0x7f7af4659520>,\n",
       "  <models.Report at 0x7f7af46593a0>,\n",
       "  <models.Report at 0x7f7af4659370>,\n",
       "  <models.Report at 0x7f7af4659340>,\n",
       "  <models.Report at 0x7f7af4659400>])"
      ]
     },
     "execution_count": 3,
     "metadata": {},
     "output_type": "execute_result"
    }
   ],
   "source": [
    "# find any report with dupe_of = None\n",
    "col_masters = col.find({'dupe_of': None})\n",
    "masters = [Report(**report) for report in col_masters]\n",
    "len(masters), masters[:5]"
   ]
  },
  {
   "cell_type": "code",
   "execution_count": 4,
   "metadata": {},
   "outputs": [
    {
     "data": {
      "text/plain": [
       "(1008,\n",
       " [<models.Report at 0x7f7aef469640>,\n",
       "  <models.Report at 0x7f7aef469880>,\n",
       "  <models.Report at 0x7f7aef469520>,\n",
       "  <models.Report at 0x7f7aef469970>,\n",
       "  <models.Report at 0x7f7aef469850>])"
      ]
     },
     "execution_count": 4,
     "metadata": {},
     "output_type": "execute_result"
    }
   ],
   "source": [
    "col_duplicates = col.find({'dupe_of': {'$ne': None}})\n",
    "duplicates = [Report(**report) for report in col_duplicates]\n",
    "len(duplicates), duplicates[:5]"
   ]
  },
  {
   "cell_type": "markdown",
   "metadata": {},
   "source": [
    "# Generar pares maestro-maestro"
   ]
  },
  {
   "cell_type": "code",
   "execution_count": 5,
   "metadata": {},
   "outputs": [],
   "source": [
    "from random import choice\n",
    "\n",
    "master_pairs = []\n",
    "while len(master_pairs) != 4000:\n",
    "    pair = (choice(masters), choice(masters))\n",
    "    if pair not in master_pairs and pair[0] != pair[1]:\n",
    "        master_pairs.append(pair)"
   ]
  },
  {
   "cell_type": "code",
   "execution_count": 6,
   "metadata": {},
   "outputs": [
    {
     "name": "stdout",
     "output_type": "stream",
     "text": [
      "Report 1671364 (dupe of None) - Set \"Sponsored\" label for sponsored top sites in the address bar\n",
      "Report 1751283 (dupe of None) - Fix computing of age of last publication for Telemetry\n",
      "4000\n"
     ]
    }
   ],
   "source": [
    "from random import randint\n",
    "i = randint(0, len(master_pairs)-1)\n",
    "print(str(master_pairs[i][0]))\n",
    "print(str(master_pairs[i][1]))\n",
    "print(len(master_pairs))"
   ]
  },
  {
   "cell_type": "markdown",
   "metadata": {},
   "source": [
    "# Búsqueda de pares duplicado-maestro"
   ]
  },
  {
   "cell_type": "code",
   "execution_count": 7,
   "metadata": {},
   "outputs": [],
   "source": [
    "fail = []\n",
    "duplicate_pairs = []\n",
    "for report in duplicates:\n",
    "    try:\n",
    "        master = Report.get(report.dupe_of) # raises ReportNotFound\n",
    "        duplicate_pairs.append((master, report))\n",
    "    except Exception as e: # ReportNotFound\n",
    "        fail.append(report)"
   ]
  },
  {
   "cell_type": "code",
   "execution_count": 8,
   "metadata": {},
   "outputs": [
    {
     "name": "stdout",
     "output_type": "stream",
     "text": [
      "[!] 41 reportes sin un maestro en BD (4.07%)\n",
      "[+] 967 reportes con un maestro en BD (95.93%)\n",
      "[+] 1008/1008 reportes duplicados analizados\n"
     ]
    }
   ],
   "source": [
    "print(f\"[!] {len(fail)} reportes sin un maestro en BD ({len(fail) / len(duplicates) * 100:.2f}%)\")\n",
    "print(f\"[+] {len(duplicate_pairs)} reportes con un maestro en BD ({len(duplicate_pairs) / len(duplicates) * 100:.2f}%)\")\n",
    "print(f\"[+] {len(duplicate_pairs)+len(fail)}/{len(duplicates)} reportes duplicados analizados\")"
   ]
  },
  {
   "cell_type": "markdown",
   "metadata": {},
   "source": [
    "## Comprobar duplicados sin maestro aparente"
   ]
  },
  {
   "cell_type": "markdown",
   "metadata": {},
   "source": [
    "Lo más probable es que sean un duplicado de un duplicado.\n",
    "\n",
    "De esta forma, el dupe_of señala a otro reporte con un dupe_of que señala al verdadero maestro (puede tener más iteraciones)"
   ]
  },
  {
   "cell_type": "code",
   "execution_count": 9,
   "metadata": {},
   "outputs": [],
   "source": [
    "from scraper.bugzilla_scraper import BugzillaBaseScraper\n",
    "\n",
    "bugzilla = BugzillaBaseScraper()\n",
    "\n",
    "scraped_masters = [] # (duplicado_sin_maestro_en_bd, maestro_scrapeado)\n",
    "for report in fail:\n",
    "    master = bugzilla.search_bug(report.dupe_of)\n",
    "    scraped_masters.append((report, master))\n",
    "\n"
   ]
  },
  {
   "cell_type": "code",
   "execution_count": 10,
   "metadata": {},
   "outputs": [
    {
     "name": "stdout",
     "output_type": "stream",
     "text": [
      "41 reportes con un maestro en BD (100.00% de los reportes a analizar)\n"
     ]
    }
   ],
   "source": [
    "new_pairs = []\n",
    "for duplicate, master in scraped_masters:\n",
    "    try:\n",
    "        if master['dupe_of'] != None:\n",
    "            master_db = Report.get(master['dupe_of'])\n",
    "            new_pairs.append((master_db, duplicate))\n",
    "    except Exception as e: # ReportNotFound\n",
    "        print(f\"[!] El reporte maestro {master['id']} del duplicado {duplicate.report_id} no está en Base de datos y debería scrapearse\")\n",
    "\n",
    "print(f\"{len(new_pairs)} reportes con un maestro en BD ({len(new_pairs) / len(scraped_masters) * 100:.2f}% de los reportes a analizar)\")"
   ]
  },
  {
   "cell_type": "code",
   "execution_count": 11,
   "metadata": {},
   "outputs": [
    {
     "name": "stdout",
     "output_type": "stream",
     "text": [
      "Pares de maestro-duplicado: 1008\n"
     ]
    }
   ],
   "source": [
    "duplicate_pairs.extend(new_pairs)\n",
    "print(f\"Pares de maestro-duplicado: {len(duplicate_pairs)}\")"
   ]
  },
  {
   "cell_type": "markdown",
   "metadata": {},
   "source": [
    "# Resultados"
   ]
  },
  {
   "cell_type": "code",
   "execution_count": 12,
   "metadata": {},
   "outputs": [
    {
     "name": "stdout",
     "output_type": "stream",
     "text": [
      "Se tienen 3724 reportes maestros\n",
      "Se tienen 1008 reportes duplicados\n",
      "Total reportes en BD: 4732\n",
      "\n",
      "Se obtuvieron 4000 pares maestro-maestro\n",
      "Se obtuvieron 1008 pares maestro-duplicado\n",
      "Total pares: 5008\n"
     ]
    }
   ],
   "source": [
    "print(f\"Se tienen {len(masters)} reportes maestros\")\n",
    "print(f\"Se tienen {len(duplicates)} reportes duplicados\")\n",
    "print(f\"Total reportes en BD: {len(reports)}\")\n",
    "print()\n",
    "print(f\"Se obtuvieron {len(master_pairs)} pares maestro-maestro\")\n",
    "print(f\"Se obtuvieron {len(duplicate_pairs)} pares maestro-duplicado\")\n",
    "print(f\"Total pares: {len(master_pairs)+len(duplicate_pairs)}\")"
   ]
  },
  {
   "cell_type": "code",
   "execution_count": 15,
   "metadata": {},
   "outputs": [
    {
     "name": "stdout",
     "output_type": "stream",
     "text": [
      "Report 1759231 (dupe of None) - Downloads panel opens when extensions (e.g. Simple Tab Groups) automatically start and delete downloads, without user interaction. (investigate ways to prevent this)\n",
      "Report 1702526 (dupe of None) - Windows build docs shouldn't specify using curl as it doesn't exist in mozillabuild\n"
     ]
    }
   ],
   "source": [
    "print(master_pairs[0][0])\n",
    "print(master_pairs[0][1])"
   ]
  },
  {
   "cell_type": "code",
   "execution_count": 18,
   "metadata": {},
   "outputs": [
    {
     "name": "stdout",
     "output_type": "stream",
     "text": [
      "Report 1707462 (dupe of None) - Default OS downloads directory is listed as \"Downloads\" in preferences/settings even when that is not the name of the folder, which is confusing\n",
      "Report 1762510 (dupe of 1707462) - firefox uses home dir for downloads instead of downloads directory\n"
     ]
    }
   ],
   "source": [
    "print(duplicate_pairs[0][0])\n",
    "print(duplicate_pairs[0][1])"
   ]
  },
  {
   "cell_type": "code",
   "execution_count": null,
   "metadata": {},
   "outputs": [],
   "source": []
  }
 ],
 "metadata": {
  "interpreter": {
   "hash": "f0ca60a2cdb1d0849629b0665e6bc534f4c406f61de13067c8ff7809c9027b19"
  },
  "kernelspec": {
   "display_name": "Python 3.8.10 ('backend-Te0t6uJi')",
   "language": "python",
   "name": "python3"
  },
  "language_info": {
   "codemirror_mode": {
    "name": "ipython",
    "version": 3
   },
   "file_extension": ".py",
   "mimetype": "text/x-python",
   "name": "python",
   "nbconvert_exporter": "python",
   "pygments_lexer": "ipython3",
   "version": "3.8.10"
  },
  "orig_nbformat": 4
 },
 "nbformat": 4,
 "nbformat_minor": 2
}
