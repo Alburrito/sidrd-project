{
 "cells": [
  {
   "cell_type": "markdown",
   "metadata": {},
   "source": [
    "Lo primero es añadir al path la carpeta root del proyecto para poder acceder a los módulos y ejecutar aun así el notebook desde su carpeta"
   ]
  },
  {
   "cell_type": "code",
   "execution_count": 1,
   "metadata": {},
   "outputs": [],
   "source": [
    "import sys\n",
    "sys.path.insert(0, '..')"
   ]
  },
  {
   "cell_type": "markdown",
   "metadata": {},
   "source": [
    "# Conexión y obtención general de reportes"
   ]
  },
  {
   "cell_type": "markdown",
   "metadata": {},
   "source": []
  },
  {
   "cell_type": "code",
   "execution_count": 2,
   "metadata": {},
   "outputs": [],
   "source": [
    "import controllers as c\n",
    "from models import Report"
   ]
  },
  {
   "cell_type": "code",
   "execution_count": 6,
   "metadata": {},
   "outputs": [
    {
     "data": {
      "text/plain": [
       "(900,\n",
       " [<models.Report at 0x7febd7514a30>,\n",
       "  <models.Report at 0x7febd7514b80>,\n",
       "  <models.Report at 0x7febd7514be0>,\n",
       "  <models.Report at 0x7febd75149a0>,\n",
       "  <models.Report at 0x7febd7514c40>])"
      ]
     },
     "execution_count": 6,
     "metadata": {},
     "output_type": "execute_result"
    }
   ],
   "source": [
    "reports = c.get_reports(limit=900)\n",
    "len(reports), reports[:5]"
   ]
  },
  {
   "cell_type": "code",
   "execution_count": 7,
   "metadata": {},
   "outputs": [
    {
     "data": {
      "text/plain": [
       "(571,\n",
       " [<models.Report at 0x7febd7514a30>,\n",
       "  <models.Report at 0x7febd7514b80>,\n",
       "  <models.Report at 0x7febd7514be0>,\n",
       "  <models.Report at 0x7febd75149a0>,\n",
       "  <models.Report at 0x7febd7514c40>])"
      ]
     },
     "execution_count": 7,
     "metadata": {},
     "output_type": "execute_result"
    }
   ],
   "source": [
    "masters = [r for r in reports if r.dupe_of is None]\n",
    "len(masters), masters[:5]"
   ]
  },
  {
   "cell_type": "code",
   "execution_count": 8,
   "metadata": {},
   "outputs": [
    {
     "data": {
      "text/plain": [
       "(329,\n",
       " [<models.Report at 0x7febd7514d30>,\n",
       "  <models.Report at 0x7febd7514d60>,\n",
       "  <models.Report at 0x7febd75146a0>,\n",
       "  <models.Report at 0x7febd6ffe9a0>,\n",
       "  <models.Report at 0x7febd6ffe9d0>])"
      ]
     },
     "execution_count": 8,
     "metadata": {},
     "output_type": "execute_result"
    }
   ],
   "source": [
    "duplicates = [r for r in reports if r.dupe_of is not None]\n",
    "len(duplicates), duplicates[:5]"
   ]
  },
  {
   "cell_type": "markdown",
   "metadata": {},
   "source": [
    "# Generar pares maestro-maestro"
   ]
  },
  {
   "cell_type": "code",
   "execution_count": 11,
   "metadata": {},
   "outputs": [],
   "source": [
    "from random import choice\n",
    "\n",
    "master_pairs = []\n",
    "while len(master_pairs) != 400: # TODO: Cambiar a 4000\n",
    "    pair = (choice(masters), choice(masters))\n",
    "    if pair not in master_pairs and pair[0] != pair[1]:\n",
    "        master_pairs.append(pair)"
   ]
  },
  {
   "cell_type": "code",
   "execution_count": 12,
   "metadata": {},
   "outputs": [
    {
     "name": "stdout",
     "output_type": "stream",
     "text": [
      "Report 1599138 (dupe of None) - Add preference for disabling notifications of software updates (e.g. What's New Panel)\n",
      "Report 1607718 (dupe of None) - Make setTabAttributes and updateTabPosition private methods\n",
      "400\n"
     ]
    }
   ],
   "source": [
    "from random import randint\n",
    "i = randint(0, len(master_pairs)-1)\n",
    "print(str(master_pairs[i][0]))\n",
    "print(str(master_pairs[i][1]))\n",
    "print(len(master_pairs))"
   ]
  },
  {
   "cell_type": "markdown",
   "metadata": {},
   "source": [
    "# Búsqueda de pares duplicado-maestro"
   ]
  },
  {
   "cell_type": "code",
   "execution_count": 13,
   "metadata": {},
   "outputs": [],
   "source": [
    "fail = []\n",
    "duplicate_pairs = []\n",
    "\n",
    "for report in duplicates:\n",
    "    try:\n",
    "        master = c.get_report(report.dupe_of) # raises ReportNotFound\n",
    "        duplicate_pairs.append((master, report))\n",
    "    except Exception as e: # ReportNotFound\n",
    "        fail.append(report)"
   ]
  },
  {
   "cell_type": "code",
   "execution_count": 14,
   "metadata": {},
   "outputs": [
    {
     "name": "stdout",
     "output_type": "stream",
     "text": [
      "[!] 8 reportes sin un maestro en BD (2.43%)\n",
      "[+] 321 reportes con un maestro en BD (97.57%)\n",
      "[+] 329/329 reportes duplicados analizados\n"
     ]
    }
   ],
   "source": [
    "print(f\"[!] {len(fail)} reportes sin un maestro en BD ({len(fail) / len(duplicates) * 100:.2f}%)\")\n",
    "print(f\"[+] {len(duplicate_pairs)} reportes con un maestro en BD ({len(duplicate_pairs) / len(duplicates) * 100:.2f}%)\")\n",
    "print(f\"[+] {len(duplicate_pairs)+len(fail)}/{len(duplicates)} reportes duplicados analizados\")"
   ]
  },
  {
   "cell_type": "markdown",
   "metadata": {},
   "source": [
    "## Comprobar duplicados sin maestro aparente"
   ]
  },
  {
   "cell_type": "markdown",
   "metadata": {},
   "source": [
    "Lo más probable es que sean un duplicado de un duplicado.\n",
    "\n",
    "De esta forma, el dupe_of señala a otro reporte con un dupe_of que señala al verdadero maestro (puede tener más iteraciones)"
   ]
  },
  {
   "cell_type": "code",
   "execution_count": 16,
   "metadata": {},
   "outputs": [],
   "source": [
    "from scraper.bugzilla_scraper import BugzillaBaseScraper\n",
    "\n",
    "bugzilla = BugzillaBaseScraper()\n",
    "\n",
    "scraped_masters = [] # (duplicado_sin_maestro_en_bd, maestro_scrapeado)\n",
    "for report in fail:\n",
    "    master = bugzilla.search_bug(report.dupe_of)\n",
    "    scraped_masters.append((report, master))"
   ]
  },
  {
   "cell_type": "code",
   "execution_count": 17,
   "metadata": {},
   "outputs": [
    {
     "name": "stdout",
     "output_type": "stream",
     "text": [
      "8 reportes con un maestro en BD (0.00% de los reportes a analizar)\n"
     ]
    }
   ],
   "source": [
    "new_pairs = []\n",
    "for duplicate, master in scraped_masters:\n",
    "    try:\n",
    "        if master['dupe_of'] != None:\n",
    "            master_db = c.get_report(master['dupe_of'])\n",
    "            new_pairs.append((master_db, duplicate))\n",
    "    except Exception as e: # ReportNotFound\n",
    "        print(f\"[!] El reporte maestro {master['id']} del duplicado {duplicate.report_id} no está en Base de datos y debería scrapearse\")\n",
    "\n",
    "len_new_pairs = str(len(new_pairs))\n",
    "try:\n",
    "    per_new_pairs = f\"{len_new_pairs / len(scraped_masters) * 100:.2f}\"\n",
    "except:\n",
    "    per_new_pairs = \"0.00\"\n",
    "print(f\"{len_new_pairs} reportes con un maestro en BD ({per_new_pairs}% de los reportes a analizar)\")"
   ]
  },
  {
   "cell_type": "code",
   "execution_count": 18,
   "metadata": {},
   "outputs": [
    {
     "name": "stdout",
     "output_type": "stream",
     "text": [
      "Pares de maestro-duplicado: 108\n"
     ]
    }
   ],
   "source": [
    "duplicate_pairs.extend(new_pairs)\n",
    "print(f\"Pares de maestro-duplicado: {len(duplicate_pairs)}\")"
   ]
  },
  {
   "cell_type": "code",
   "execution_count": 19,
   "metadata": {},
   "outputs": [],
   "source": [
    "duplicate_pairs = duplicate_pairs[:100] # TODO: Cambiar a 1000"
   ]
  },
  {
   "cell_type": "markdown",
   "metadata": {},
   "source": [
    "# Resultados"
   ]
  },
  {
   "cell_type": "code",
   "execution_count": 20,
   "metadata": {},
   "outputs": [
    {
     "name": "stdout",
     "output_type": "stream",
     "text": [
      "Se tienen 571 reportes maestros\n",
      "Se tienen 329 reportes duplicados\n",
      "Total reportes en BD: 900\n",
      "\n",
      "Se obtuvieron 400 pares maestro-maestro\n",
      "Se obtuvieron 100 pares maestro-duplicado\n",
      "Total pares: 500\n"
     ]
    }
   ],
   "source": [
    "print(f\"Se tienen {len(masters)} reportes maestros\")\n",
    "print(f\"Se tienen {len(duplicates)} reportes duplicados\")\n",
    "print(f\"Total reportes en BD: {len(reports)}\")\n",
    "print()\n",
    "print(f\"Se obtuvieron {len(master_pairs)} pares maestro-maestro\")\n",
    "print(f\"Se obtuvieron {len(duplicate_pairs)} pares maestro-duplicado\")\n",
    "print(f\"Total pares: {len(master_pairs)+len(duplicate_pairs)}\")"
   ]
  },
  {
   "cell_type": "code",
   "execution_count": 21,
   "metadata": {},
   "outputs": [
    {
     "name": "stdout",
     "output_type": "stream",
     "text": [
      "Report 1517529 (dupe of None) - Migrate safeMode.dtd to Fluent\n",
      "Report 1606909 (dupe of None) - Port Tips from the experiment behind a pref\n"
     ]
    }
   ],
   "source": [
    "print(master_pairs[0][0])\n",
    "print(master_pairs[0][1])"
   ]
  },
  {
   "cell_type": "code",
   "execution_count": 22,
   "metadata": {},
   "outputs": [
    {
     "name": "stdout",
     "output_type": "stream",
     "text": [
      "Report 1687125 (dupe of None) - Up-arrow -> enter opens preferences unintentionally (search settings selection persists on input)\n",
      "Report 1688852 (dupe of 1687125) - Settings gear button is including in a search cycle when navigate with Ctrl+up arrow on one-off bar\n"
     ]
    }
   ],
   "source": [
    "print(duplicate_pairs[0][0])\n",
    "print(duplicate_pairs[0][1])"
   ]
  },
  {
   "cell_type": "code",
   "execution_count": null,
   "metadata": {},
   "outputs": [],
   "source": []
  }
 ],
 "metadata": {
  "interpreter": {
   "hash": "f0ca60a2cdb1d0849629b0665e6bc534f4c406f61de13067c8ff7809c9027b19"
  },
  "kernelspec": {
   "display_name": "Python 3.8.10 ('backend-Te0t6uJi')",
   "language": "python",
   "name": "python3"
  },
  "language_info": {
   "codemirror_mode": {
    "name": "ipython",
    "version": 3
   },
   "file_extension": ".py",
   "mimetype": "text/x-python",
   "name": "python",
   "nbconvert_exporter": "python",
   "pygments_lexer": "ipython3",
   "version": "3.8.10"
  },
  "orig_nbformat": 4
 },
 "nbformat": 4,
 "nbformat_minor": 2
}
