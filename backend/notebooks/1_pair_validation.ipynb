{
 "cells": [
  {
   "cell_type": "markdown",
   "metadata": {},
   "source": [
    "Lo primero es añadir al path la carpeta root del proyecto para poder acceder a los módulos y ejecutar aun así el notebook desde su carpeta"
   ]
  },
  {
   "cell_type": "code",
   "execution_count": 1,
   "metadata": {},
   "outputs": [],
   "source": [
    "import sys\n",
    "sys.path.insert(0, '..')"
   ]
  },
  {
   "cell_type": "markdown",
   "metadata": {},
   "source": [
    "# Conexión y obtención general de reportes"
   ]
  },
  {
   "cell_type": "markdown",
   "metadata": {},
   "source": []
  },
  {
   "cell_type": "code",
   "execution_count": 2,
   "metadata": {},
   "outputs": [],
   "source": [
    "from models import reports_collection as col\n",
    "import controllers as c\n",
    "from models import Report"
   ]
  },
  {
   "cell_type": "code",
   "execution_count": 3,
   "metadata": {},
   "outputs": [
    {
     "data": {
      "text/plain": [
       "(40,\n",
       " [<models.Report at 0x7f1a55b98f40>,\n",
       "  <models.Report at 0x7f1a55b98bb0>,\n",
       "  <models.Report at 0x7f1a55b98ca0>,\n",
       "  <models.Report at 0x7f1a55b98fd0>,\n",
       "  <models.Report at 0x7f1a559f0070>])"
      ]
     },
     "execution_count": 3,
     "metadata": {},
     "output_type": "execute_result"
    }
   ],
   "source": [
    "reports = c.get_reports()\n",
    "len(reports), reports[:5]"
   ]
  },
  {
   "cell_type": "code",
   "execution_count": 4,
   "metadata": {},
   "outputs": [
    {
     "data": {
      "text/plain": [
       "(20,\n",
       " [<models.Report at 0x7f1a55b98f40>,\n",
       "  <models.Report at 0x7f1a55b98bb0>,\n",
       "  <models.Report at 0x7f1a55b98ca0>,\n",
       "  <models.Report at 0x7f1a559f00d0>,\n",
       "  <models.Report at 0x7f1a559f00a0>])"
      ]
     },
     "execution_count": 4,
     "metadata": {},
     "output_type": "execute_result"
    }
   ],
   "source": [
    "masters = [r for r in reports if r.dupe_of is None]\n",
    "len(masters), masters[:5]"
   ]
  },
  {
   "cell_type": "code",
   "execution_count": 5,
   "metadata": {},
   "outputs": [
    {
     "data": {
      "text/plain": [
       "(20,\n",
       " [<models.Report at 0x7f1a55b98fd0>,\n",
       "  <models.Report at 0x7f1a559f0070>,\n",
       "  <models.Report at 0x7f1a559f0040>,\n",
       "  <models.Report at 0x7f1a559f0220>,\n",
       "  <models.Report at 0x7f1a559f0100>])"
      ]
     },
     "execution_count": 5,
     "metadata": {},
     "output_type": "execute_result"
    }
   ],
   "source": [
    "duplicates = [r for r in reports if r.dupe_of is not None]\n",
    "len(duplicates), duplicates[:5]"
   ]
  },
  {
   "cell_type": "markdown",
   "metadata": {},
   "source": [
    "# Generar pares maestro-maestro"
   ]
  },
  {
   "cell_type": "code",
   "execution_count": 6,
   "metadata": {},
   "outputs": [],
   "source": [
    "from random import choice\n",
    "\n",
    "master_pairs = []\n",
    "while len(master_pairs) != 40: # TODO: Cambiar a 4000\n",
    "    pair = (choice(masters), choice(masters))\n",
    "    if pair not in master_pairs and pair[0] != pair[1]:\n",
    "        master_pairs.append(pair)"
   ]
  },
  {
   "cell_type": "code",
   "execution_count": 7,
   "metadata": {},
   "outputs": [
    {
     "name": "stdout",
     "output_type": "stream",
     "text": [
      "Report 1431518 (dupe of None) - Image \"copy to clipboard\" produces the wrong colors, due to losing image's color profile\n",
      "Report 1427224 (dupe of None) - Services.search.originalDefaultEngine is null on Linux Mint (breaking some non default engines since FF 57)\n",
      "40\n"
     ]
    }
   ],
   "source": [
    "from random import randint\n",
    "i = randint(0, len(master_pairs)-1)\n",
    "print(str(master_pairs[i][0]))\n",
    "print(str(master_pairs[i][1]))\n",
    "print(len(master_pairs))"
   ]
  },
  {
   "cell_type": "markdown",
   "metadata": {},
   "source": [
    "# Búsqueda de pares duplicado-maestro"
   ]
  },
  {
   "cell_type": "code",
   "execution_count": 8,
   "metadata": {},
   "outputs": [],
   "source": [
    "fail = []\n",
    "duplicate_pairs = []\n",
    "\n",
    "for report in duplicates:\n",
    "    try:\n",
    "        master = c.get_report(report.dupe_of) # raises ReportNotFound\n",
    "        duplicate_pairs.append((master, report))\n",
    "    except Exception as e: # ReportNotFound\n",
    "        fail.append(report)"
   ]
  },
  {
   "cell_type": "code",
   "execution_count": 9,
   "metadata": {},
   "outputs": [
    {
     "name": "stdout",
     "output_type": "stream",
     "text": [
      "[!] 0 reportes sin un maestro en BD (0.00%)\n",
      "[+] 20 reportes con un maestro en BD (100.00%)\n",
      "[+] 20/20 reportes duplicados analizados\n"
     ]
    }
   ],
   "source": [
    "print(f\"[!] {len(fail)} reportes sin un maestro en BD ({len(fail) / len(duplicates) * 100:.2f}%)\")\n",
    "print(f\"[+] {len(duplicate_pairs)} reportes con un maestro en BD ({len(duplicate_pairs) / len(duplicates) * 100:.2f}%)\")\n",
    "print(f\"[+] {len(duplicate_pairs)+len(fail)}/{len(duplicates)} reportes duplicados analizados\")"
   ]
  },
  {
   "cell_type": "markdown",
   "metadata": {},
   "source": [
    "## Comprobar duplicados sin maestro aparente"
   ]
  },
  {
   "cell_type": "markdown",
   "metadata": {},
   "source": [
    "Lo más probable es que sean un duplicado de un duplicado.\n",
    "\n",
    "De esta forma, el dupe_of señala a otro reporte con un dupe_of que señala al verdadero maestro (puede tener más iteraciones)"
   ]
  },
  {
   "cell_type": "code",
   "execution_count": 10,
   "metadata": {},
   "outputs": [],
   "source": [
    "from scraper.bugzilla_scraper import BugzillaBaseScraper\n",
    "\n",
    "bugzilla = BugzillaBaseScraper()\n",
    "\n",
    "scraped_masters = [] # (duplicado_sin_maestro_en_bd, maestro_scrapeado)\n",
    "for report in fail:\n",
    "    master = bugzilla.search_bug(report.dupe_of)\n",
    "    scraped_masters.append((report, master))"
   ]
  },
  {
   "cell_type": "code",
   "execution_count": 11,
   "metadata": {},
   "outputs": [
    {
     "name": "stdout",
     "output_type": "stream",
     "text": [
      "0 reportes con un maestro en BD (0.00% de los reportes a analizar)\n"
     ]
    }
   ],
   "source": [
    "new_pairs = []\n",
    "for duplicate, master in scraped_masters:\n",
    "    try:\n",
    "        if master['dupe_of'] != None:\n",
    "            master_db = c.get_report(master['dupe_of'])\n",
    "            new_pairs.append((master_db, duplicate))\n",
    "    except Exception as e: # ReportNotFound\n",
    "        print(f\"[!] El reporte maestro {master['id']} del duplicado {duplicate.report_id} no está en Base de datos y debería scrapearse\")\n",
    "\n",
    "len_new_pairs = str(len(new_pairs))\n",
    "try:\n",
    "    per_new_pairs = f\"{len_new_pairs / len(scraped_masters) * 100:.2f}\"\n",
    "except:\n",
    "    per_new_pairs = \"0.00\"\n",
    "print(f\"{len_new_pairs} reportes con un maestro en BD ({per_new_pairs}% de los reportes a analizar)\")"
   ]
  },
  {
   "cell_type": "code",
   "execution_count": 12,
   "metadata": {},
   "outputs": [
    {
     "name": "stdout",
     "output_type": "stream",
     "text": [
      "Pares de maestro-duplicado: 20\n"
     ]
    }
   ],
   "source": [
    "duplicate_pairs.extend(new_pairs)\n",
    "print(f\"Pares de maestro-duplicado: {len(duplicate_pairs)}\")"
   ]
  },
  {
   "cell_type": "markdown",
   "metadata": {},
   "source": [
    "# Resultados"
   ]
  },
  {
   "cell_type": "code",
   "execution_count": 13,
   "metadata": {},
   "outputs": [
    {
     "name": "stdout",
     "output_type": "stream",
     "text": [
      "Se tienen 20 reportes maestros\n",
      "Se tienen 20 reportes duplicados\n",
      "Total reportes en BD: 40\n",
      "\n",
      "Se obtuvieron 40 pares maestro-maestro\n",
      "Se obtuvieron 20 pares maestro-duplicado\n",
      "Total pares: 60\n"
     ]
    }
   ],
   "source": [
    "print(f\"Se tienen {len(masters)} reportes maestros\")\n",
    "print(f\"Se tienen {len(duplicates)} reportes duplicados\")\n",
    "print(f\"Total reportes en BD: {len(reports)}\")\n",
    "print()\n",
    "print(f\"Se obtuvieron {len(master_pairs)} pares maestro-maestro\")\n",
    "print(f\"Se obtuvieron {len(duplicate_pairs)} pares maestro-duplicado\")\n",
    "print(f\"Total pares: {len(master_pairs)+len(duplicate_pairs)}\")"
   ]
  },
  {
   "cell_type": "code",
   "execution_count": 14,
   "metadata": {},
   "outputs": [
    {
     "name": "stdout",
     "output_type": "stream",
     "text": [
      "Report 1608461 (dupe of None) - Determine what kind of telemetry in-product Search Tips should collect\n",
      "Report 1327551 (dupe of None) - Ctrl+Shift+T doesn't restore closed tab (100% reproducible)\n"
     ]
    }
   ],
   "source": [
    "print(master_pairs[0][0])\n",
    "print(master_pairs[0][1])"
   ]
  },
  {
   "cell_type": "code",
   "execution_count": 15,
   "metadata": {},
   "outputs": [
    {
     "name": "stdout",
     "output_type": "stream",
     "text": [
      "Report 1598598 (dupe of None) - Intermittent mochitest <test-name> | application crashed [@ objc_retain + 0x1c]\n",
      "Report 1607196 (dupe of 1598598) - Intermittent browser/components/customizableui/test/browser_976792_insertNodeInWindow.js (finished) | application terminated with exit code 2\n"
     ]
    }
   ],
   "source": [
    "print(duplicate_pairs[0][0])\n",
    "print(duplicate_pairs[0][1])"
   ]
  }
 ],
 "metadata": {
  "interpreter": {
   "hash": "f0ca60a2cdb1d0849629b0665e6bc534f4c406f61de13067c8ff7809c9027b19"
  },
  "kernelspec": {
   "display_name": "Python 3.8.10 ('backend-Te0t6uJi')",
   "language": "python",
   "name": "python3"
  },
  "language_info": {
   "codemirror_mode": {
    "name": "ipython",
    "version": 3
   },
   "file_extension": ".py",
   "mimetype": "text/x-python",
   "name": "python",
   "nbconvert_exporter": "python",
   "pygments_lexer": "ipython3",
   "version": "3.8.10"
  },
  "orig_nbformat": 4
 },
 "nbformat": 4,
 "nbformat_minor": 2
}
