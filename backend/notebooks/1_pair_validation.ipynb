{
 "cells": [
  {
   "cell_type": "markdown",
   "metadata": {},
   "source": [
    "Lo primero es añadir al path la carpeta root del proyecto para poder acceder a los módulos y ejecutar aun así el notebook desde su carpeta"
   ]
  },
  {
   "cell_type": "code",
   "execution_count": 1,
   "metadata": {},
   "outputs": [],
   "source": [
    "import sys\n",
    "sys.path.insert(0, '..')"
   ]
  },
  {
   "cell_type": "markdown",
   "metadata": {},
   "source": [
    "# Conexión y obtención general de reportes"
   ]
  },
  {
   "cell_type": "markdown",
   "metadata": {},
   "source": []
  },
  {
   "cell_type": "code",
   "execution_count": 2,
   "metadata": {},
   "outputs": [],
   "source": [
    "import controllers as c\n",
    "from models import Report"
   ]
  },
  {
   "cell_type": "code",
   "execution_count": 3,
   "metadata": {},
   "outputs": [
    {
     "data": {
      "text/plain": [
       "(10000,\n",
       " [<models.Report at 0x7f2a93192d60>,\n",
       "  <models.Report at 0x7f2a93192d90>,\n",
       "  <models.Report at 0x7f2a93192e20>,\n",
       "  <models.Report at 0x7f2a93192eb0>,\n",
       "  <models.Report at 0x7f2a93192df0>])"
      ]
     },
     "execution_count": 3,
     "metadata": {},
     "output_type": "execute_result"
    }
   ],
   "source": [
    "reports = c.get_reports(limit=10000)\n",
    "len(reports), reports[:5]"
   ]
  },
  {
   "cell_type": "code",
   "execution_count": 4,
   "metadata": {},
   "outputs": [
    {
     "data": {
      "text/plain": [
       "(6699,\n",
       " [<models.Report at 0x7f2a93192d60>,\n",
       "  <models.Report at 0x7f2a93192d90>,\n",
       "  <models.Report at 0x7f2a93192e20>,\n",
       "  <models.Report at 0x7f2a93192eb0>,\n",
       "  <models.Report at 0x7f2a93192f70>])"
      ]
     },
     "execution_count": 4,
     "metadata": {},
     "output_type": "execute_result"
    }
   ],
   "source": [
    "masters = [r for r in reports if r.dupe_of is None]\n",
    "len(masters), masters[:5]"
   ]
  },
  {
   "cell_type": "code",
   "execution_count": 5,
   "metadata": {},
   "outputs": [
    {
     "data": {
      "text/plain": [
       "(3301,\n",
       " [<models.Report at 0x7f2a93192df0>,\n",
       "  <models.Report at 0x7f2a93192e50>,\n",
       "  <models.Report at 0x7f2a93192fa0>,\n",
       "  <models.Report at 0x7f2a93192f10>,\n",
       "  <models.Report at 0x7f2a93192f40>])"
      ]
     },
     "execution_count": 5,
     "metadata": {},
     "output_type": "execute_result"
    }
   ],
   "source": [
    "duplicates = [r for r in reports if r.dupe_of is not None]\n",
    "len(duplicates), duplicates[:5]"
   ]
  },
  {
   "cell_type": "markdown",
   "metadata": {},
   "source": [
    "# Búsqueda de pares duplicado-maestro"
   ]
  },
  {
   "cell_type": "code",
   "execution_count": 6,
   "metadata": {},
   "outputs": [],
   "source": [
    "N_DUPLICATE_PAIRS = 1000\n",
    "N_MASTER_PAIRS = 4000"
   ]
  },
  {
   "cell_type": "code",
   "execution_count": 7,
   "metadata": {},
   "outputs": [],
   "source": [
    "duplicate_pairs = []\n",
    "master_reports = []\n",
    "duplicate_reports = []\n",
    "\n",
    "fail = []\n",
    "\n",
    "for report in duplicates:\n",
    "    try:\n",
    "        master = c.get_report(report.dupe_of)# raises ReportNotFound\n",
    "        if master not in master_reports:\n",
    "            master_reports.append(master)\n",
    "            duplicate_reports.append(report)\n",
    "            duplicate_pairs.append((master, report))\n",
    "    except Exception as e: # ReportNotFound\n",
    "        fail.append(report)\n",
    "\n",
    "    if len(duplicate_pairs) == N_DUPLICATE_PAIRS:\n",
    "        break\n"
   ]
  },
  {
   "cell_type": "code",
   "execution_count": 8,
   "metadata": {},
   "outputs": [
    {
     "name": "stdout",
     "output_type": "stream",
     "text": [
      "[!] 16/1016 reportes analizados sin un maestro en BD (1.57%)\n",
      "[+] 1000/1016 reportes analizados con un maestro en BD (98.43%)\n",
      "[+] 1016/3301 reportes duplicados analizados hasta completar los pares\n"
     ]
    }
   ],
   "source": [
    "n_reports_analyzed = len(duplicate_pairs) + len(fail)\n",
    "print(f\"[!] {len(fail)}/{n_reports_analyzed} reportes analizados sin un maestro en BD ({len(fail) / n_reports_analyzed * 100:.2f}%)\")\n",
    "print(f\"[+] {len(duplicate_pairs)}/{n_reports_analyzed} reportes analizados con un maestro en BD ({len(duplicate_pairs) / n_reports_analyzed * 100:.2f}%)\")\n",
    "print(f\"[+] {n_reports_analyzed}/{len(duplicates)} reportes duplicados analizados hasta completar los pares\")"
   ]
  },
  {
   "cell_type": "markdown",
   "metadata": {},
   "source": [
    "## Comprobar duplicados sin maestro aparente"
   ]
  },
  {
   "cell_type": "markdown",
   "metadata": {},
   "source": [
    "Lo más probable es que sean un duplicado de un duplicado.\n",
    "\n",
    "De esta forma, el dupe_of señala a otro reporte con un dupe_of que señala al verdadero maestro (puede tener más iteraciones)"
   ]
  },
  {
   "cell_type": "code",
   "execution_count": 9,
   "metadata": {},
   "outputs": [],
   "source": [
    "from scraper.bugzilla_scraper import BugzillaBaseScraper\n",
    "\n",
    "bugzilla = BugzillaBaseScraper()\n",
    "\n",
    "scraped_masters = [] # (duplicado_sin_maestro_en_bd, maestro_scrapeado)\n",
    "for report in fail:\n",
    "    master = bugzilla.search_bug(report.dupe_of)\n",
    "    scraped_masters.append((report, master))"
   ]
  },
  {
   "cell_type": "code",
   "execution_count": 10,
   "metadata": {},
   "outputs": [
    {
     "name": "stdout",
     "output_type": "stream",
     "text": [
      "16 reportes con un maestro en BD (100.00% de los reportes a analizar)\n"
     ]
    }
   ],
   "source": [
    "new_pairs = []\n",
    "for duplicate, master in scraped_masters:\n",
    "    try:\n",
    "        if master['dupe_of'] != None:\n",
    "            master_db = c.get_report(master['dupe_of'])\n",
    "            new_pairs.append((master_db, duplicate))\n",
    "    except Exception as e: # ReportNotFound\n",
    "        print(f\"[!] El reporte maestro {master['id']} del duplicado {duplicate.report_id} no está en Base de datos y debería scrapearse\")\n",
    "\n",
    "len_new_pairs = len(new_pairs)\n",
    "try:\n",
    "    per_new_pairs = f\"{((len_new_pairs / len(scraped_masters)) * 100):.2f}\"\n",
    "except:\n",
    "    per_new_pairs = \"0.00\"\n",
    "print(f\"{len_new_pairs} reportes con un maestro en BD ({per_new_pairs}% de los reportes a analizar)\")"
   ]
  },
  {
   "cell_type": "markdown",
   "metadata": {},
   "source": [
    "# Generar pares maestro-maestro"
   ]
  },
  {
   "cell_type": "code",
   "execution_count": 11,
   "metadata": {},
   "outputs": [],
   "source": [
    "from random import choice\n",
    "\n",
    "while len(master_reports) < N_MASTER_PAIRS:\n",
    "    report = choice(masters)\n",
    "    if report not in master_reports:\n",
    "        master_reports.append(report)"
   ]
  },
  {
   "cell_type": "code",
   "execution_count": 12,
   "metadata": {},
   "outputs": [],
   "source": [
    "master_pairs = []\n",
    "\n",
    "while len(master_pairs) < N_MASTER_PAIRS:\n",
    "    pair = (choice(master_reports), choice(master_reports))\n",
    "    if pair not in master_pairs and pair[0] != pair[1]:\n",
    "        master_pairs.append(pair)"
   ]
  },
  {
   "cell_type": "code",
   "execution_count": 13,
   "metadata": {},
   "outputs": [
    {
     "name": "stdout",
     "output_type": "stream",
     "text": [
      "Report 1784648 (dupe of None) - Intermittent browser/components/urlbar/tests/browser/browser_searchMode_engineRemoval.js | single tracking bug\n",
      "Report 1776019 (dupe of None) - Intermittent browser/base/content/test/popups/browser_popupUI.js | single tracking bug\n",
      "4000\n"
     ]
    }
   ],
   "source": [
    "from random import randint\n",
    "i = randint(0, len(master_pairs)-1)\n",
    "print(str(master_pairs[i][0]))\n",
    "print(str(master_pairs[i][1]))\n",
    "print(len(master_pairs))"
   ]
  },
  {
   "cell_type": "markdown",
   "metadata": {},
   "source": [
    "# Resultados"
   ]
  },
  {
   "cell_type": "code",
   "execution_count": 14,
   "metadata": {},
   "outputs": [
    {
     "name": "stdout",
     "output_type": "stream",
     "text": [
      "Se tienen 6699 reportes maestros\n",
      "Se tienen 3301 reportes duplicados\n",
      "Total reportes en BD: 10000\n",
      "\n",
      "Se obtuvieron 4000 pares maestro-maestro\n",
      "Se obtuvieron 1000 pares maestro-duplicado\n",
      "Total pares: 5000\n"
     ]
    }
   ],
   "source": [
    "print(f\"Se tienen {len(masters)} reportes maestros\")\n",
    "print(f\"Se tienen {len(duplicates)} reportes duplicados\")\n",
    "print(f\"Total reportes en BD: {len(reports)}\")\n",
    "print()\n",
    "print(f\"Se obtuvieron {len(master_pairs)} pares maestro-maestro\")\n",
    "print(f\"Se obtuvieron {len(duplicate_pairs)} pares maestro-duplicado\")\n",
    "print(f\"Total pares: {len(master_pairs)+len(duplicate_pairs)}\")"
   ]
  },
  {
   "cell_type": "code",
   "execution_count": 15,
   "metadata": {},
   "outputs": [
    {
     "name": "stdout",
     "output_type": "stream",
     "text": [
      "Report 1708492 (dupe of None) - Update FxA avatar icons\n",
      "Report 1706232 (dupe of None) - Add \"Send Tab to Device\" toolbar item\n"
     ]
    }
   ],
   "source": [
    "print(master_pairs[0][0])\n",
    "print(master_pairs[0][1])"
   ]
  },
  {
   "cell_type": "code",
   "execution_count": 16,
   "metadata": {},
   "outputs": [
    {
     "name": "stdout",
     "output_type": "stream",
     "text": [
      "Report 1693784 (dupe of None) - find toolbar highlight on scrollbar doesn't work on PDFs\n",
      "Report 1786841 (dupe of 1693784) - PDF.js Reader - missing search scroll hit marks\n"
     ]
    }
   ],
   "source": [
    "print(duplicate_pairs[0][0])\n",
    "print(duplicate_pairs[0][1])"
   ]
  },
  {
   "cell_type": "code",
   "execution_count": null,
   "metadata": {},
   "outputs": [],
   "source": []
  }
 ],
 "metadata": {
  "interpreter": {
   "hash": "f0ca60a2cdb1d0849629b0665e6bc534f4c406f61de13067c8ff7809c9027b19"
  },
  "kernelspec": {
   "display_name": "Python 3.8.10 ('backend-Te0t6uJi')",
   "language": "python",
   "name": "python3"
  },
  "language_info": {
   "codemirror_mode": {
    "name": "ipython",
    "version": 3
   },
   "file_extension": ".py",
   "mimetype": "text/x-python",
   "name": "python",
   "nbconvert_exporter": "python",
   "pygments_lexer": "ipython3",
   "version": "3.8.10"
  },
  "orig_nbformat": 4
 },
 "nbformat": 4,
 "nbformat_minor": 2
}
